{
 "cells": [
  {
   "cell_type": "markdown",
   "metadata": {},
   "source": [
    "## Spotify API\n",
    "https://developer.spotify.com/documentation/web-api/reference-beta/"
   ]
  },
  {
   "cell_type": "code",
   "execution_count": 9,
   "metadata": {},
   "outputs": [],
   "source": [
    "import requests"
   ]
  },
  {
   "cell_type": "code",
   "execution_count": 10,
   "metadata": {},
   "outputs": [],
   "source": [
    "with open(\"credentials.txt\") as f:\n",
    "    client_id, client_secret = f.read().split(\" \")"
   ]
  },
  {
   "cell_type": "code",
   "execution_count": 11,
   "metadata": {},
   "outputs": [],
   "source": [
    "credentials = requests.post(\"https://accounts.spotify.com/api/token\",\n",
    "                  data = {\"grant_type\":\"client_credentials\"},\n",
    "                  auth = (client_id, client_secret)).json()"
   ]
  },
  {
   "cell_type": "code",
   "execution_count": 12,
   "metadata": {},
   "outputs": [
    {
     "data": {
      "text/plain": [
       "'BQCUTsjPmO8SnHQZVDWZ_p-HB5gg6NsBioueSrUsdl3k9GqSmpQL2eI65zGCyKHFFIcvMMF-HhRFIZvwtYQ'"
      ]
     },
     "execution_count": 12,
     "metadata": {},
     "output_type": "execute_result"
    }
   ],
   "source": [
    "credentials[\"access_token\"]"
   ]
  },
  {
   "cell_type": "code",
   "execution_count": 13,
   "metadata": {},
   "outputs": [
    {
     "data": {
      "text/plain": [
       "{'access_token': 'BQCUTsjPmO8SnHQZVDWZ_p-HB5gg6NsBioueSrUsdl3k9GqSmpQL2eI65zGCyKHFFIcvMMF-HhRFIZvwtYQ',\n",
       " 'token_type': 'Bearer',\n",
       " 'expires_in': 3600,\n",
       " 'scope': ''}"
      ]
     },
     "execution_count": 13,
     "metadata": {},
     "output_type": "execute_result"
    }
   ],
   "source": [
    "credentials"
   ]
  },
  {
   "cell_type": "code",
   "execution_count": 37,
   "metadata": {},
   "outputs": [],
   "source": [
    "i = \"4y3OI86AEP6PQoDE6olYhO\" # Sucker from Jonas Brothers\n",
    "audio_features = requests.get(\"https://api.spotify.com/v1/audio-features/{}\".format(i),\n",
    "                 headers = {\"Authorization\":\"Bearer \" + credentials[\"access_token\"]}).json()"
   ]
  },
  {
   "cell_type": "code",
   "execution_count": 40,
   "metadata": {},
   "outputs": [
    {
     "data": {
      "text/plain": [
       "{'danceability': 0.842,\n",
       " 'energy': 0.734,\n",
       " 'key': 1,\n",
       " 'loudness': -5.065,\n",
       " 'mode': 0,\n",
       " 'speechiness': 0.0588,\n",
       " 'acousticness': 0.0427,\n",
       " 'instrumentalness': 0,\n",
       " 'liveness': 0.106,\n",
       " 'valence': 0.952,\n",
       " 'tempo': 137.958,\n",
       " 'type': 'audio_features',\n",
       " 'id': '4y3OI86AEP6PQoDE6olYhO',\n",
       " 'uri': 'spotify:track:4y3OI86AEP6PQoDE6olYhO',\n",
       " 'track_href': 'https://api.spotify.com/v1/tracks/4y3OI86AEP6PQoDE6olYhO',\n",
       " 'analysis_url': 'https://api.spotify.com/v1/audio-analysis/4y3OI86AEP6PQoDE6olYhO',\n",
       " 'duration_ms': 181040,\n",
       " 'time_signature': 4}"
      ]
     },
     "execution_count": 40,
     "metadata": {},
     "output_type": "execute_result"
    }
   ],
   "source": [
    "audio_features"
   ]
  },
  {
   "cell_type": "code",
   "execution_count": 16,
   "metadata": {},
   "outputs": [
    {
     "data": {
      "text/plain": [
       "{'album': {'album_type': 'single',\n",
       "  'artists': [{'external_urls': {'spotify': 'https://open.spotify.com/artist/7gOdHgIoIKoe4i9Tta6qdD'},\n",
       "    'href': 'https://api.spotify.com/v1/artists/7gOdHgIoIKoe4i9Tta6qdD',\n",
       "    'id': '7gOdHgIoIKoe4i9Tta6qdD',\n",
       "    'name': 'Jonas Brothers',\n",
       "    'type': 'artist',\n",
       "    'uri': 'spotify:artist:7gOdHgIoIKoe4i9Tta6qdD'}],\n",
       "  'available_markets': ['AD',\n",
       "   'AE',\n",
       "   'AR',\n",
       "   'AT',\n",
       "   'AU',\n",
       "   'BE',\n",
       "   'BG',\n",
       "   'BH',\n",
       "   'BO',\n",
       "   'BR',\n",
       "   'CA',\n",
       "   'CH',\n",
       "   'CL',\n",
       "   'CO',\n",
       "   'CR',\n",
       "   'CY',\n",
       "   'CZ',\n",
       "   'DE',\n",
       "   'DK',\n",
       "   'DO',\n",
       "   'DZ',\n",
       "   'EC',\n",
       "   'EE',\n",
       "   'EG',\n",
       "   'ES',\n",
       "   'FI',\n",
       "   'FR',\n",
       "   'GB',\n",
       "   'GR',\n",
       "   'GT',\n",
       "   'HK',\n",
       "   'HN',\n",
       "   'HU',\n",
       "   'ID',\n",
       "   'IE',\n",
       "   'IL',\n",
       "   'IN',\n",
       "   'IS',\n",
       "   'IT',\n",
       "   'JO',\n",
       "   'JP',\n",
       "   'KW',\n",
       "   'LB',\n",
       "   'LI',\n",
       "   'LT',\n",
       "   'LU',\n",
       "   'LV',\n",
       "   'MA',\n",
       "   'MC',\n",
       "   'MT',\n",
       "   'MX',\n",
       "   'MY',\n",
       "   'NI',\n",
       "   'NL',\n",
       "   'NO',\n",
       "   'NZ',\n",
       "   'OM',\n",
       "   'PA',\n",
       "   'PE',\n",
       "   'PH',\n",
       "   'PL',\n",
       "   'PS',\n",
       "   'PT',\n",
       "   'PY',\n",
       "   'QA',\n",
       "   'RO',\n",
       "   'SA',\n",
       "   'SE',\n",
       "   'SG',\n",
       "   'SK',\n",
       "   'SV',\n",
       "   'TH',\n",
       "   'TN',\n",
       "   'TR',\n",
       "   'TW',\n",
       "   'US',\n",
       "   'UY',\n",
       "   'VN',\n",
       "   'ZA'],\n",
       "  'external_urls': {'spotify': 'https://open.spotify.com/album/4W0r9HOcuCC6Vh7aze2hwi'},\n",
       "  'href': 'https://api.spotify.com/v1/albums/4W0r9HOcuCC6Vh7aze2hwi',\n",
       "  'id': '4W0r9HOcuCC6Vh7aze2hwi',\n",
       "  'images': [{'height': 640,\n",
       "    'url': 'https://i.scdn.co/image/4c20c1367495b513dcdeb91752a9ece4a63167bb',\n",
       "    'width': 640},\n",
       "   {'height': 300,\n",
       "    'url': 'https://i.scdn.co/image/eff1d5fb5903d2cf739f7760bed776323564c9c6',\n",
       "    'width': 300},\n",
       "   {'height': 64,\n",
       "    'url': 'https://i.scdn.co/image/cf5770edef018386a296480606d4b6c4f1deabed',\n",
       "    'width': 64}],\n",
       "  'name': 'Sucker',\n",
       "  'release_date': '2019-03-01',\n",
       "  'release_date_precision': 'day',\n",
       "  'total_tracks': 1,\n",
       "  'type': 'album',\n",
       "  'uri': 'spotify:album:4W0r9HOcuCC6Vh7aze2hwi'},\n",
       " 'artists': [{'external_urls': {'spotify': 'https://open.spotify.com/artist/7gOdHgIoIKoe4i9Tta6qdD'},\n",
       "   'href': 'https://api.spotify.com/v1/artists/7gOdHgIoIKoe4i9Tta6qdD',\n",
       "   'id': '7gOdHgIoIKoe4i9Tta6qdD',\n",
       "   'name': 'Jonas Brothers',\n",
       "   'type': 'artist',\n",
       "   'uri': 'spotify:artist:7gOdHgIoIKoe4i9Tta6qdD'}],\n",
       " 'available_markets': ['AD',\n",
       "  'AE',\n",
       "  'AR',\n",
       "  'AT',\n",
       "  'AU',\n",
       "  'BE',\n",
       "  'BG',\n",
       "  'BH',\n",
       "  'BO',\n",
       "  'BR',\n",
       "  'CA',\n",
       "  'CH',\n",
       "  'CL',\n",
       "  'CO',\n",
       "  'CR',\n",
       "  'CY',\n",
       "  'CZ',\n",
       "  'DE',\n",
       "  'DK',\n",
       "  'DO',\n",
       "  'DZ',\n",
       "  'EC',\n",
       "  'EE',\n",
       "  'EG',\n",
       "  'ES',\n",
       "  'FI',\n",
       "  'FR',\n",
       "  'GB',\n",
       "  'GR',\n",
       "  'GT',\n",
       "  'HK',\n",
       "  'HN',\n",
       "  'HU',\n",
       "  'ID',\n",
       "  'IE',\n",
       "  'IL',\n",
       "  'IN',\n",
       "  'IS',\n",
       "  'IT',\n",
       "  'JO',\n",
       "  'JP',\n",
       "  'KW',\n",
       "  'LB',\n",
       "  'LI',\n",
       "  'LT',\n",
       "  'LU',\n",
       "  'LV',\n",
       "  'MA',\n",
       "  'MC',\n",
       "  'MT',\n",
       "  'MX',\n",
       "  'MY',\n",
       "  'NI',\n",
       "  'NL',\n",
       "  'NO',\n",
       "  'NZ',\n",
       "  'OM',\n",
       "  'PA',\n",
       "  'PE',\n",
       "  'PH',\n",
       "  'PL',\n",
       "  'PS',\n",
       "  'PT',\n",
       "  'PY',\n",
       "  'QA',\n",
       "  'RO',\n",
       "  'SA',\n",
       "  'SE',\n",
       "  'SG',\n",
       "  'SK',\n",
       "  'SV',\n",
       "  'TH',\n",
       "  'TN',\n",
       "  'TR',\n",
       "  'TW',\n",
       "  'US',\n",
       "  'UY',\n",
       "  'VN',\n",
       "  'ZA'],\n",
       " 'disc_number': 1,\n",
       " 'duration_ms': 181040,\n",
       " 'explicit': False,\n",
       " 'external_ids': {'isrc': 'USUG11900515'},\n",
       " 'external_urls': {'spotify': 'https://open.spotify.com/track/4y3OI86AEP6PQoDE6olYhO'},\n",
       " 'href': 'https://api.spotify.com/v1/tracks/4y3OI86AEP6PQoDE6olYhO',\n",
       " 'id': '4y3OI86AEP6PQoDE6olYhO',\n",
       " 'is_local': False,\n",
       " 'name': 'Sucker',\n",
       " 'popularity': 96,\n",
       " 'preview_url': None,\n",
       " 'track_number': 1,\n",
       " 'type': 'track',\n",
       " 'uri': 'spotify:track:4y3OI86AEP6PQoDE6olYhO'}"
      ]
     },
     "execution_count": 16,
     "metadata": {},
     "output_type": "execute_result"
    }
   ],
   "source": [
    "track = requests.get(\"https://api.spotify.com/v1/tracks/{}\".format(i),\n",
    "                     headers = {\"Authorization\":\"Bearer \" + credentials[\"access_token\"]}).json()\n",
    "track"
   ]
  },
  {
   "cell_type": "code",
   "execution_count": 23,
   "metadata": {},
   "outputs": [
    {
     "name": "stdout",
     "output_type": "stream",
     "text": [
      "Key: album\n",
      "\t {'album_type': 'single', 'artists': [{'external_urls': {'spotify': 'https://open.spotify.com/artist/7gOdHgIoIKoe4i9Tta6qdD'}, 'href': 'https://api.spotify.com/v1/artists/7gOdHgIoIKoe4i9Tta6qdD', 'id': '7gOdHgIoIKoe4i9Tta6qdD', 'name': 'Jonas Brothers', 'type': 'artist', 'uri': 'spotify:artist:7gOdHgIoIKoe4i9Tta6qdD'}], 'available_markets': ['AD', 'AE', 'AR', 'AT', 'AU', 'BE', 'BG', 'BH', 'BO', 'BR', 'CA', 'CH', 'CL', 'CO', 'CR', 'CY', 'CZ', 'DE', 'DK', 'DO', 'DZ', 'EC', 'EE', 'EG', 'ES', 'FI', 'FR', 'GB', 'GR', 'GT', 'HK', 'HN', 'HU', 'ID', 'IE', 'IL', 'IN', 'IS', 'IT', 'JO', 'JP', 'KW', 'LB', 'LI', 'LT', 'LU', 'LV', 'MA', 'MC', 'MT', 'MX', 'MY', 'NI', 'NL', 'NO', 'NZ', 'OM', 'PA', 'PE', 'PH', 'PL', 'PS', 'PT', 'PY', 'QA', 'RO', 'SA', 'SE', 'SG', 'SK', 'SV', 'TH', 'TN', 'TR', 'TW', 'US', 'UY', 'VN', 'ZA'], 'external_urls': {'spotify': 'https://open.spotify.com/album/4W0r9HOcuCC6Vh7aze2hwi'}, 'href': 'https://api.spotify.com/v1/albums/4W0r9HOcuCC6Vh7aze2hwi', 'id': '4W0r9HOcuCC6Vh7aze2hwi', 'images': [{'height': 640, 'url': 'https://i.scdn.co/image/4c20c1367495b513dcdeb91752a9ece4a63167bb', 'width': 640}, {'height': 300, 'url': 'https://i.scdn.co/image/eff1d5fb5903d2cf739f7760bed776323564c9c6', 'width': 300}, {'height': 64, 'url': 'https://i.scdn.co/image/cf5770edef018386a296480606d4b6c4f1deabed', 'width': 64}], 'name': 'Sucker', 'release_date': '2019-03-01', 'release_date_precision': 'day', 'total_tracks': 1, 'type': 'album', 'uri': 'spotify:album:4W0r9HOcuCC6Vh7aze2hwi'}\n",
      "\n",
      "\n",
      "Key: artists\n",
      "\t [{'external_urls': {'spotify': 'https://open.spotify.com/artist/7gOdHgIoIKoe4i9Tta6qdD'}, 'href': 'https://api.spotify.com/v1/artists/7gOdHgIoIKoe4i9Tta6qdD', 'id': '7gOdHgIoIKoe4i9Tta6qdD', 'name': 'Jonas Brothers', 'type': 'artist', 'uri': 'spotify:artist:7gOdHgIoIKoe4i9Tta6qdD'}]\n",
      "\n",
      "\n",
      "Key: available_markets\n",
      "\t ['AD', 'AE', 'AR', 'AT', 'AU', 'BE', 'BG', 'BH', 'BO', 'BR', 'CA', 'CH', 'CL', 'CO', 'CR', 'CY', 'CZ', 'DE', 'DK', 'DO', 'DZ', 'EC', 'EE', 'EG', 'ES', 'FI', 'FR', 'GB', 'GR', 'GT', 'HK', 'HN', 'HU', 'ID', 'IE', 'IL', 'IN', 'IS', 'IT', 'JO', 'JP', 'KW', 'LB', 'LI', 'LT', 'LU', 'LV', 'MA', 'MC', 'MT', 'MX', 'MY', 'NI', 'NL', 'NO', 'NZ', 'OM', 'PA', 'PE', 'PH', 'PL', 'PS', 'PT', 'PY', 'QA', 'RO', 'SA', 'SE', 'SG', 'SK', 'SV', 'TH', 'TN', 'TR', 'TW', 'US', 'UY', 'VN', 'ZA']\n",
      "\n",
      "\n",
      "Key: disc_number\n",
      "\t 1\n",
      "\n",
      "\n",
      "Key: duration_ms\n",
      "\t 181040\n",
      "\n",
      "\n",
      "Key: explicit\n",
      "\t False\n",
      "\n",
      "\n",
      "Key: external_ids\n",
      "\t {'isrc': 'USUG11900515'}\n",
      "\n",
      "\n",
      "Key: external_urls\n",
      "\t {'spotify': 'https://open.spotify.com/track/4y3OI86AEP6PQoDE6olYhO'}\n",
      "\n",
      "\n",
      "Key: href\n",
      "\t https://api.spotify.com/v1/tracks/4y3OI86AEP6PQoDE6olYhO\n",
      "\n",
      "\n",
      "Key: id\n",
      "\t 4y3OI86AEP6PQoDE6olYhO\n",
      "\n",
      "\n",
      "Key: is_local\n",
      "\t False\n",
      "\n",
      "\n",
      "Key: name\n",
      "\t Sucker\n",
      "\n",
      "\n",
      "Key: popularity\n",
      "\t 96\n",
      "\n",
      "\n",
      "Key: preview_url\n",
      "\t None\n",
      "\n",
      "\n",
      "Key: track_number\n",
      "\t 1\n",
      "\n",
      "\n",
      "Key: type\n",
      "\t track\n",
      "\n",
      "\n",
      "Key: uri\n",
      "\t spotify:track:4y3OI86AEP6PQoDE6olYhO\n",
      "\n",
      "\n"
     ]
    }
   ],
   "source": [
    "for k in track.keys():\n",
    "    print(\"Key: \" + k)\n",
    "    print(\"\\t\", track[k])\n",
    "    print(\"\\n\")"
   ]
  },
  {
   "cell_type": "markdown",
   "metadata": {},
   "source": [
    "## Weather API?"
   ]
  },
  {
   "cell_type": "code",
   "execution_count": null,
   "metadata": {},
   "outputs": [],
   "source": []
  },
  {
   "cell_type": "code",
   "execution_count": null,
   "metadata": {},
   "outputs": [],
   "source": []
  }
 ],
 "metadata": {
  "kernelspec": {
   "display_name": "Python 3",
   "language": "python",
   "name": "python3"
  },
  "language_info": {
   "codemirror_mode": {
    "name": "ipython",
    "version": 3
   },
   "file_extension": ".py",
   "mimetype": "text/x-python",
   "name": "python",
   "nbconvert_exporter": "python",
   "pygments_lexer": "ipython3",
   "version": "3.7.1"
  }
 },
 "nbformat": 4,
 "nbformat_minor": 2
}
