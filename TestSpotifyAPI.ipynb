{
 "cells": [
  {
   "cell_type": "markdown",
   "metadata": {},
   "source": [
    "## Spotify API\n",
    "https://developer.spotify.com/documentation/web-api/reference-beta/"
   ]
  },
  {
   "cell_type": "code",
   "execution_count": 1,
   "metadata": {},
   "outputs": [],
   "source": [
    "import requests"
   ]
  },
  {
   "cell_type": "code",
   "execution_count": 44,
   "metadata": {},
   "outputs": [],
   "source": [
    "with open(\"credentials.txt\") as f:\n",
    "    client_id, client_secret = f.read().split(\" \")"
   ]
  },
  {
   "cell_type": "code",
   "execution_count": 52,
   "metadata": {},
   "outputs": [],
   "source": [
    "credentials = requests.post(\"https://accounts.spotify.com/api/token\",\n",
    "                  data = {\"grant_type\":\"client_credentials\"},\n",
    "                  auth = (client_id, client_secret)).json()"
   ]
  },
  {
   "cell_type": "code",
   "execution_count": 54,
   "metadata": {},
   "outputs": [
    {
     "data": {
      "text/plain": [
       "'BQCZUiSOK8CHgaUAp_rdFKuu8bs8CT3XPw56NXghBS_o8XMNhEBzQvDvJLo63E4EvS-tSu1MNzXr8Jj96uA'"
      ]
     },
     "execution_count": 54,
     "metadata": {},
     "output_type": "execute_result"
    }
   ],
   "source": [
    "credentials[\"access_token\"]"
   ]
  },
  {
   "cell_type": "code",
   "execution_count": 51,
   "metadata": {},
   "outputs": [
    {
     "data": {
      "text/plain": [
       "{'access_token': 'BQAMuB-bTra0f5zOo5cGG4U1BCHn1bbBWmrktAeUu70VHpjRMyNeX_9hZA7rQC7RnAA-eZjNYOWk8q96OSs',\n",
       " 'token_type': 'Bearer',\n",
       " 'expires_in': 3600,\n",
       " 'scope': ''}"
      ]
     },
     "execution_count": 51,
     "metadata": {},
     "output_type": "execute_result"
    }
   ],
   "source": [
    "credentials.json()"
   ]
  },
  {
   "cell_type": "code",
   "execution_count": 65,
   "metadata": {},
   "outputs": [],
   "source": [
    "i = \"4y3OI86AEP6PQoDE6olYhO\" # Sucker from Jonas Brothers\n",
    "r = requests.get(\"https://api.spotify.com/v1/audio-features/{}\".format(i),\n",
    "                 headers = {\"Authorization\":\"Bearer \" + credentials[\"access_token\"]}).json()"
   ]
  },
  {
   "cell_type": "code",
   "execution_count": 66,
   "metadata": {},
   "outputs": [
    {
     "data": {
      "text/plain": [
       "{'danceability': 0.846,\n",
       " 'energy': 0.731,\n",
       " 'key': 1,\n",
       " 'loudness': -5.027,\n",
       " 'mode': 0,\n",
       " 'speechiness': 0.064,\n",
       " 'acousticness': 0.0436,\n",
       " 'instrumentalness': 0,\n",
       " 'liveness': 0.0949,\n",
       " 'valence': 0.933,\n",
       " 'tempo': 137.947,\n",
       " 'type': 'audio_features',\n",
       " 'id': '4y3OI86AEP6PQoDE6olYhO',\n",
       " 'uri': 'spotify:track:4y3OI86AEP6PQoDE6olYhO',\n",
       " 'track_href': 'https://api.spotify.com/v1/tracks/4y3OI86AEP6PQoDE6olYhO',\n",
       " 'analysis_url': 'https://api.spotify.com/v1/audio-analysis/4y3OI86AEP6PQoDE6olYhO',\n",
       " 'duration_ms': 181040,\n",
       " 'time_signature': 4}"
      ]
     },
     "execution_count": 66,
     "metadata": {},
     "output_type": "execute_result"
    }
   ],
   "source": [
    "r"
   ]
  },
  {
   "cell_type": "markdown",
   "metadata": {},
   "source": [
    "## Weather API?"
   ]
  },
  {
   "cell_type": "code",
   "execution_count": null,
   "metadata": {},
   "outputs": [],
   "source": []
  }
 ],
 "metadata": {
  "kernelspec": {
   "display_name": "Python 3",
   "language": "python",
   "name": "python3"
  },
  "language_info": {
   "codemirror_mode": {
    "name": "ipython",
    "version": 3
   },
   "file_extension": ".py",
   "mimetype": "text/x-python",
   "name": "python",
   "nbconvert_exporter": "python",
   "pygments_lexer": "ipython3",
   "version": "3.7.1"
  }
 },
 "nbformat": 4,
 "nbformat_minor": 2
}
