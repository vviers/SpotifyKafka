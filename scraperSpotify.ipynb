{
 "cells": [
  {
   "cell_type": "code",
   "execution_count": 1,
   "metadata": {},
   "outputs": [],
   "source": [
    "import requests\n",
    "from bs4 import BeautifulSoup"
   ]
  },
  {
   "cell_type": "code",
   "execution_count": 2,
   "metadata": {},
   "outputs": [],
   "source": [
    "r = requests.get(\"https://spotifycharts.com/regional/us/daily/latest\")"
   ]
  },
  {
   "cell_type": "code",
   "execution_count": 3,
   "metadata": {},
   "outputs": [
    {
     "data": {
      "text/plain": [
       "'text/html; charset=UTF-8'"
      ]
     },
     "execution_count": 3,
     "metadata": {},
     "output_type": "execute_result"
    }
   ],
   "source": [
    "r.headers[\"Content-Type\"]"
   ]
  },
  {
   "cell_type": "code",
   "execution_count": 4,
   "metadata": {},
   "outputs": [],
   "source": [
    "html = BeautifulSoup(r.text, 'html.parser')"
   ]
  },
  {
   "cell_type": "code",
   "execution_count": 5,
   "metadata": {},
   "outputs": [],
   "source": [
    "title_artist = html.find_all('td', attrs = {'class':'chart-table-track'})\n",
    "streams = html.find_all('td', attrs = {'class':'chart-table-streams'})\n",
    "ids = html.find_all('td', attrs = {'class':'chart-table-image'})\n",
    "ids = [i.a.get(\"href\").replace(\"https://open.spotify.com/track/\", \"\") for i in ids]"
   ]
  },
  {
   "cell_type": "code",
   "execution_count": 23,
   "metadata": {},
   "outputs": [],
   "source": [
    "t = [{'title':i.strong.text,\n",
    "      'artist':i.span.text.replace(\"by \", \"\"),\n",
    "      'streams':int(j.text.replace(',', '')),\n",
    "      'id':ids} for i, j, ids in zip(title_artist, streams, ids)]"
   ]
  },
  {
   "cell_type": "markdown",
   "metadata": {},
   "source": [
    "More JSON-y\n",
    "\n",
    "`{\"title - artist\":[{\"streams\":numberofstreams, \"id\":trackid}]}`"
   ]
  },
  {
   "cell_type": "code",
   "execution_count": 24,
   "metadata": {},
   "outputs": [],
   "source": [
    "tj = {i.strong.text + \" - \" + i.span.text.replace(\"by \", \"\"):\n",
    "      [{'streams':int(j.text.replace(',', '')),\n",
    "      'id':ids}] for i, j, ids in zip(title_artist, streams, ids)}"
   ]
  },
  {
   "cell_type": "markdown",
   "metadata": {},
   "source": [
    "Nice middle ground"
   ]
  },
  {
   "cell_type": "code",
   "execution_count": 26,
   "metadata": {},
   "outputs": [],
   "source": [
    "list_kvpairs = [{i.strong.text + \" - \" + i.span.text.replace(\"by \", \"\"):\n",
    "      [{'streams':int(j.text.replace(',', '')),\n",
    "      'id':ids}]} for i, j, ids in zip(title_artist, streams, ids)]"
   ]
  },
  {
   "cell_type": "code",
   "execution_count": 27,
   "metadata": {},
   "outputs": [
    {
     "data": {
      "text/plain": [
       "[{'MIDDLE CHILD - J. Cole': [{'streams': 1366354,\n",
       "    'id': '2JvzF1RMd7lE3KmFlsyZD8'}]},\n",
       " {'Sunflower - Spider-Man: Into the Spider-Verse - Post Malone': [{'streams': 1334168,\n",
       "    'id': '3KkXRkHbMCARz0aVfEt68P'}]},\n",
       " {'7 rings - Ariana Grande': [{'streams': 1301804,\n",
       "    'id': '6ocbgoVGwYJhOv1GgI9NsF'}]},\n",
       " {'Sucker - Jonas Brothers': [{'streams': 1255027,\n",
       "    'id': '4y3OI86AEP6PQoDE6olYhO'}]},\n",
       " {'Murder On My Mind - YNW Melly': [{'streams': 1226383,\n",
       "    'id': '7eBqSVxrzQZtK2mmgRG6lC'}]},\n",
       " {'Wow. - Post Malone': [{'streams': 1112766,\n",
       "    'id': '6MWtB6iiXyIwun0YzU6DFP'}]},\n",
       " {'Going Bad (feat. Drake) - Meek Mill': [{'streams': 1075432,\n",
       "    'id': '2IRZnDFmlqMuOrYOLnZZyc'}]},\n",
       " {\"break up with your girlfriend, i'm bored - Ariana Grande\": [{'streams': 1069252,\n",
       "    'id': '4kV4N9D1iKVxx1KLvtTpjS'}]},\n",
       " {'Robbery - Juice WRLD': [{'streams': 1041054,\n",
       "    'id': '6Hj9jySrnFppAI0sEMCZpJ'}]},\n",
       " {'Thotiana - Blueface': [{'streams': 965858,\n",
       "    'id': '3oh6SCCeLuXhFpEyepla6G'}]}]"
      ]
     },
     "execution_count": 27,
     "metadata": {},
     "output_type": "execute_result"
    }
   ],
   "source": [
    "list_kvpairs[:10]"
   ]
  },
  {
   "cell_type": "markdown",
   "metadata": {},
   "source": [
    "# \"Stream\" will look like this"
   ]
  },
  {
   "cell_type": "code",
   "execution_count": 25,
   "metadata": {},
   "outputs": [
    {
     "name": "stdout",
     "output_type": "stream",
     "text": [
      "{'title': 'MIDDLE CHILD', 'artist': 'J. Cole', 'streams': 1366354, 'id': '2JvzF1RMd7lE3KmFlsyZD8'}\n",
      "{'title': 'Sunflower - Spider-Man: Into the Spider-Verse', 'artist': 'Post Malone', 'streams': 1334168, 'id': '3KkXRkHbMCARz0aVfEt68P'}\n",
      "{'title': '7 rings', 'artist': 'Ariana Grande', 'streams': 1301804, 'id': '6ocbgoVGwYJhOv1GgI9NsF'}\n",
      "{'title': 'Sucker', 'artist': 'Jonas Brothers', 'streams': 1255027, 'id': '4y3OI86AEP6PQoDE6olYhO'}\n",
      "{'title': 'Murder On My Mind', 'artist': 'YNW Melly', 'streams': 1226383, 'id': '7eBqSVxrzQZtK2mmgRG6lC'}\n",
      "{'title': 'Wow.', 'artist': 'Post Malone', 'streams': 1112766, 'id': '6MWtB6iiXyIwun0YzU6DFP'}\n",
      "{'title': 'Going Bad (feat. Drake)', 'artist': 'Meek Mill', 'streams': 1075432, 'id': '2IRZnDFmlqMuOrYOLnZZyc'}\n",
      "{'title': \"break up with your girlfriend, i'm bored\", 'artist': 'Ariana Grande', 'streams': 1069252, 'id': '4kV4N9D1iKVxx1KLvtTpjS'}\n",
      "{'title': 'Robbery', 'artist': 'Juice WRLD', 'streams': 1041054, 'id': '6Hj9jySrnFppAI0sEMCZpJ'}\n",
      "{'title': 'Thotiana', 'artist': 'Blueface', 'streams': 965858, 'id': '3oh6SCCeLuXhFpEyepla6G'}\n"
     ]
    }
   ],
   "source": [
    "from time import sleep\n",
    "for song in t[:10]:\n",
    "    print(song)\n",
    "    sleep(1)"
   ]
  },
  {
   "cell_type": "markdown",
   "metadata": {},
   "source": [
    "# Scraping Function"
   ]
  },
  {
   "cell_type": "code",
   "execution_count": null,
   "metadata": {},
   "outputs": [],
   "source": [
    "import requests\n",
    "from bs4 import BeautifulSoup\n",
    "from time import sleep\n",
    "\n",
    "def get_chart(region = 'global', date = 'latest'):\n",
    "    \n",
    "    # create url to query\n",
    "    url = \"https://spotifycharts.com/regional/{}/daily/{}\".format(region, date)\n",
    "    \n",
    "    # run query, if fails, re-try after 3 seconds\n",
    "    r = requests.get(url)\n",
    "    while r.status_code != 200:\n",
    "        print(\"Error parsing {}\\nError code: {}\\nTrying again...\\n\".format(url, r.status_code))\n",
    "        sleep(5)\n",
    "        r = requests.get(url)\n",
    "    \n",
    "    # Parse HTML response for data\n",
    "    html = BeautifulSoup(r.text, 'html.parser')\n",
    "    title_artist = html.find_all('td', attrs = {'class':'chart-table-track'})\n",
    "    streams = html.find_all('td', attrs = {'class':'chart-table-streams'})\n",
    "    ids = html.find_all('td', attrs = {'class':'chart-table-image'})\n",
    "    ids = [i.a.get(\"href\").replace(\"https://open.spotify.com/track/\", \"\") for i in ids]\n",
    "    \n",
    "    # Create a list of dictionaries with the data\n",
    "    dta =[{'title':i.strong.text,\n",
    "          'artist':i.span.text.replace(\"by \", \"\"),\n",
    "          'streams':int(j.text.replace(',', '')),\n",
    "          'id':ids,\n",
    "          'date':date,\n",
    "          'region':region} for i, j, ids in zip(title_artist, streams, ids)]\n",
    "    \n",
    "    return dta"
   ]
  },
  {
   "cell_type": "code",
   "execution_count": null,
   "metadata": {},
   "outputs": [],
   "source": [
    "data = get_chart(region = 'fr', date = \"2019-03-16\")\n",
    "for i in data[0:10]:\n",
    "    print(i)\n",
    "    sleep(1)"
   ]
  },
  {
   "cell_type": "code",
   "execution_count": null,
   "metadata": {},
   "outputs": [],
   "source": [
    "with open(\"FR-2017-10-19.txt\", \"a+\") as f:\n",
    "    for song in data:\n",
    "        f.write(str(song) + \"\\n\")"
   ]
  },
  {
   "cell_type": "markdown",
   "metadata": {},
   "source": [
    "#### The below cell doesn't really create valid JSON - it's 200 JSONs appended in a file..."
   ]
  },
  {
   "cell_type": "code",
   "execution_count": null,
   "metadata": {},
   "outputs": [],
   "source": [
    "import json\n",
    "with open(\"FR-2017-10-19.json\", \"a+\") as f:\n",
    "    for song in data:\n",
    "        json.dump(song, f)"
   ]
  },
  {
   "cell_type": "markdown",
   "metadata": {},
   "source": [
    "# Publish to a Kafka topic"
   ]
  },
  {
   "cell_type": "code",
   "execution_count": null,
   "metadata": {},
   "outputs": [],
   "source": [
    "import kafka\n",
    "import json"
   ]
  },
  {
   "cell_type": "code",
   "execution_count": null,
   "metadata": {},
   "outputs": [],
   "source": [
    "data[0]"
   ]
  },
  {
   "cell_type": "code",
   "execution_count": null,
   "metadata": {},
   "outputs": [],
   "source": [
    "producer = kafka.KafkaProducer(value_serializer=lambda m: json.dumps(m).encode('ascii'), bootstrap_servers=['localhost:9092'])\n",
    "for record in data:\n",
    "    producer.send('TutorialTopic', record)\n",
    "    sleep(1)"
   ]
  },
  {
   "cell_type": "code",
   "execution_count": null,
   "metadata": {},
   "outputs": [],
   "source": [
    "# need to pass a JSON desserializer\n",
    "consumer = kafka.KafkaConsumer('TutorialTopic', bootstrap_servers=['localhost:9092'], auto_offset_reset='earliest', enable_auto_commit=False)"
   ]
  },
  {
   "cell_type": "code",
   "execution_count": null,
   "metadata": {},
   "outputs": [],
   "source": [
    "for message in consumer:\n",
    "    print(\"%s:%d:%d: key=%s value=%s\" % (message.topic, message.partition,\n",
    "                                         message.offset, message.key,\n",
    "                                         message.value))"
   ]
  },
  {
   "cell_type": "code",
   "execution_count": null,
   "metadata": {},
   "outputs": [],
   "source": []
  },
  {
   "cell_type": "code",
   "execution_count": null,
   "metadata": {},
   "outputs": [],
   "source": []
  }
 ],
 "metadata": {
  "kernelspec": {
   "display_name": "Python 3",
   "language": "python",
   "name": "python3"
  },
  "language_info": {
   "codemirror_mode": {
    "name": "ipython",
    "version": 3
   },
   "file_extension": ".py",
   "mimetype": "text/x-python",
   "name": "python",
   "nbconvert_exporter": "python",
   "pygments_lexer": "ipython3",
   "version": "3.7.1"
  }
 },
 "nbformat": 4,
 "nbformat_minor": 2
}
