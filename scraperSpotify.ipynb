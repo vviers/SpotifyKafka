{
 "cells": [
  {
   "cell_type": "code",
   "execution_count": 8,
   "metadata": {},
   "outputs": [],
   "source": [
    "import requests\n",
    "from bs4 import BeautifulSoup"
   ]
  },
  {
   "cell_type": "code",
   "execution_count": 2,
   "metadata": {},
   "outputs": [],
   "source": [
    "r = requests.get(\"https://spotifycharts.com/regional/us/daily/latest\")"
   ]
  },
  {
   "cell_type": "code",
   "execution_count": 5,
   "metadata": {},
   "outputs": [
    {
     "data": {
      "text/plain": [
       "'text/html; charset=UTF-8'"
      ]
     },
     "execution_count": 5,
     "metadata": {},
     "output_type": "execute_result"
    }
   ],
   "source": [
    "r.headers[\"Content-Type\"]"
   ]
  },
  {
   "cell_type": "code",
   "execution_count": 46,
   "metadata": {},
   "outputs": [],
   "source": [
    "html = BeautifulSoup(r.text, 'html.parser')"
   ]
  },
  {
   "cell_type": "code",
   "execution_count": 73,
   "metadata": {},
   "outputs": [],
   "source": [
    "title_artist = html.find_all('td', attrs = {'class':'chart-table-track'})\n",
    "streams = html.find_all('td', attrs = {'class':'chart-table-streams'})\n",
    "ids = html.find_all('td', attrs = {'class':'chart-table-image'})\n",
    "ids = [i.a.get(\"href\").replace(\"https://open.spotify.com/track/\", \"\") for i in ids]"
   ]
  },
  {
   "cell_type": "code",
   "execution_count": 89,
   "metadata": {},
   "outputs": [],
   "source": [
    "t = [{'title':i.strong.text,\n",
    "      'artist':i.span.text.replace(\"by \", \"\"),\n",
    "      'streams':int(j.text.replace(',', '')),\n",
    "      'id':ids} for i, j, ids in zip(title_artist, streams, ids)]"
   ]
  },
  {
   "cell_type": "markdown",
   "metadata": {},
   "source": [
    "# \"Stream\" will look like this"
   ]
  },
  {
   "cell_type": "code",
   "execution_count": 79,
   "metadata": {},
   "outputs": [
    {
     "name": "stdout",
     "output_type": "stream",
     "text": [
      "{'title': 'Sucker', 'artist': 'Jonas Brothers', 'streams': 1340990, 'id': '4y3OI86AEP6PQoDE6olYhO'}\n",
      "{'title': '7 rings', 'artist': 'Ariana Grande', 'streams': 1282396, 'id': '6ocbgoVGwYJhOv1GgI9NsF'}\n",
      "{'title': 'MIDDLE CHILD', 'artist': 'J. Cole', 'streams': 1280463, 'id': '2JvzF1RMd7lE3KmFlsyZD8'}\n",
      "{'title': 'Robbery', 'artist': 'Juice WRLD', 'streams': 1280208, 'id': '6Hj9jySrnFppAI0sEMCZpJ'}\n",
      "{'title': 'Sunflower - Spider-Man: Into the Spider-Verse', 'artist': 'Post Malone', 'streams': 1260751, 'id': '3KkXRkHbMCARz0aVfEt68P'}\n",
      "{'title': 'Murder On My Mind', 'artist': 'YNW Melly', 'streams': 1240077, 'id': '7eBqSVxrzQZtK2mmgRG6lC'}\n",
      "{'title': 'Wow.', 'artist': 'Post Malone', 'streams': 1190389, 'id': '6MWtB6iiXyIwun0YzU6DFP'}\n",
      "{'title': 'Fast', 'artist': 'Juice WRLD', 'streams': 1129927, 'id': '6MjNilJCVKJq0LfFvo5jWJ'}\n",
      "{'title': \"break up with your girlfriend, i'm bored\", 'artist': 'Ariana Grande', 'streams': 1128182, 'id': '4kV4N9D1iKVxx1KLvtTpjS'}\n",
      "{'title': 'Going Bad (feat. Drake)', 'artist': 'Meek Mill', 'streams': 957781, 'id': '2IRZnDFmlqMuOrYOLnZZyc'}\n",
      "{'title': 'Thotiana', 'artist': 'Blueface', 'streams': 882537, 'id': '3oh6SCCeLuXhFpEyepla6G'}\n",
      "{'title': 'a lot', 'artist': '21 Savage', 'streams': 806992, 'id': '2t8yVaLvJ0RenpXUIAC52d'}\n",
      "{'title': 'Swervin (feat. 6ix9ine)', 'artist': 'A Boogie Wit da Hoodie', 'streams': 787610, 'id': '1wJRveJZLSb1rjhnUHQiv6'}\n",
      "{'title': 'Drip Too Hard (Lil Baby & Gunna)', 'artist': 'Lil Baby', 'streams': 740150, 'id': '78QR3Wp35dqAhFEc2qAGjE'}\n",
      "{'title': 'wish you were gay', 'artist': 'Billie Eilish', 'streams': 738164, 'id': '4txc3txsIt81diMzGhrVPS'}\n",
      "{'title': 'SICKO MODE', 'artist': 'Travis Scott', 'streams': 729471, 'id': '2xLMifQCjDGFmkHkpNLD9h'}\n",
      "{'title': 'Empty', 'artist': 'Juice WRLD', 'streams': 719800, 'id': '41MCdlvXOl62B7Kv86Bb1v'}\n",
      "{'title': 'Pure Water (with Migos)', 'artist': 'Mustard', 'streams': 717405, 'id': '63cd4JkwGgYJrbOizbfmsp'}\n",
      "{'title': 'Hear Me Calling', 'artist': 'Juice WRLD', 'streams': 705008, 'id': '13ZyrkCDmRz5xY3seuAWYk'}\n",
      "{'title': 'thank u, next', 'artist': 'Ariana Grande', 'streams': 703970, 'id': '3e9HZxeyfWwjeyPAMmWSSQ'}\n",
      "{'title': 'Talk', 'artist': 'Khalid', 'streams': 702416, 'id': '0rTV5WefWd1J3OwIheTzxM'}\n",
      "{'title': 'Make Believe', 'artist': 'Juice WRLD', 'streams': 695381, 'id': '6eiztdXRkooWsBt2xToMWI'}\n",
      "{'title': 'ZEZE (feat. Travis Scott & Offset)', 'artist': 'Kodak Black', 'streams': 680497, 'id': '0FZ4Dmg8jJJAPJnvBIzD9z'}\n",
      "{'title': 'Please Me', 'artist': 'Cardi B', 'streams': 666133, 'id': '0PG9fbaaHFHfre2gUVo7AN'}\n",
      "{'title': 'Mixed Personalities (feat. Kanye West)', 'artist': 'YNW Melly', 'streams': 660214, 'id': '6vWEAOUSxohKxhp0K1BsxL'}\n",
      "{'title': 'Happier', 'artist': 'Marshmello', 'streams': 659311, 'id': '2dpaYNEQHiRxtZbfNsse99'}\n",
      "{'title': 'Without Me', 'artist': 'Halsey', 'streams': 636985, 'id': '5p7ujcrUXASCNwRaWNHR1C'}\n",
      "{'title': 'Look Back At It', 'artist': 'A Boogie Wit da Hoodie', 'streams': 634769, 'id': '3Ol2xnObFdKV9pmRD2t9x8'}\n",
      "{'title': 'bury a friend', 'artist': 'Billie Eilish', 'streams': 633319, 'id': '4NzMOnvSJVNKF7nw5NkXIP'}\n",
      "{'title': 'Dancing With A Stranger (with Normani)', 'artist': 'Sam Smith', 'streams': 630065, 'id': '6Qs4SXO9dwPj5GKvVOv8Ki'}\n",
      "{'title': 'Mo Bamba', 'artist': 'Sheck Wes', 'streams': 609305, 'id': '1xzBco0xcoJEDXktl7Jxrr'}\n",
      "{'title': 'Shallow', 'artist': 'Lady Gaga', 'streams': 609217, 'id': '2VxeLyX666F8uXCJ0dZF8B'}\n",
      "{'title': 'Lucid Dreams', 'artist': 'Juice WRLD', 'streams': 605024, 'id': '285pBltuF7vW8TeWk8hdRR'}\n",
      "{'title': 'Maze', 'artist': 'Juice WRLD', 'streams': 578979, 'id': '4mUIe9gfsdtsVP2zFIl74x'}\n",
      "{'title': 'i', 'artist': 'Lil Skies', 'streams': 560315, 'id': '4ZT9FnbFu1PaBfV3itxiqT'}\n",
      "{'title': 'My Bad', 'artist': 'Khalid', 'streams': 554551, 'id': '1DUSuNhF8P5vUGNPpQiZa5'}\n",
      "{'title': 'SAD!', 'artist': 'XXXTENTACION', 'streams': 533842, 'id': '3ee8Jmje8o58CHK66QrVC2'}\n",
      "{'title': 'Better', 'artist': 'Khalid', 'streams': 521393, 'id': '6zeeWid2sgw4lap2jV61PZ'}\n",
      "{'title': 'Wake Up in the Sky', 'artist': 'Gucci Mane', 'streams': 515358, 'id': '2G1tXoGBaEMJ7FKGnkf6ud'}\n",
      "{'title': 'Red Room', 'artist': 'Offset', 'streams': 510562, 'id': '4TWflhgevIGo448fWc6mQq'}\n",
      "{'title': 'Better Now', 'artist': 'Post Malone', 'streams': 510032, 'id': '7dt6x5M1jzdTEt8oCbisTK'}\n",
      "{'title': 'Money', 'artist': 'Cardi B', 'streams': 499473, 'id': '2GGMabyHXnJmjY6CXhhB2e'}\n",
      "{'title': 'Eastside (with Halsey & Khalid)', 'artist': 'benny blanco', 'streams': 490007, 'id': '7FGq80cy8juXBCD2nrqdWU'}\n",
      "{'title': 'Armed And Dangerous', 'artist': 'Juice WRLD', 'streams': 489010, 'id': '5wujBwqG7INdStqGd4tRMX'}\n",
      "{'title': 'Leave Me Alone', 'artist': 'Flipp Dinero', 'streams': 488222, 'id': '14mHfNsSHN0FbLftyjrV9g'}\n",
      "{'title': 'Old Town Road', 'artist': 'Lil Nas X', 'streams': 478603, 'id': '2pMl9Sx4glsuk5ikZtFBtX'}\n",
      "{'title': 'Moonlight', 'artist': 'XXXTENTACION', 'streams': 472232, 'id': '0JP9xo3adEtGSdUEISiszL'}\n",
      "{'title': 'I Can’t Get Enough (benny blanco, Selena Gomez, J Balvin, Tainy)', 'artist': 'benny blanco', 'streams': 469376, 'id': '1WSGTYKLEpKfNQYYW5Oymt'}\n",
      "{'title': \"i'm so tired...\", 'artist': 'Lauv', 'streams': 464198, 'id': '7COXchtUOMd6uIT6HvmRaI'}\n",
      "{'title': 'Envy Me', 'artist': 'Calboy', 'streams': 459389, 'id': '05t7JMip6JrLuSrMV5yYjX'}\n",
      "{'title': 'HeMotions', 'artist': 'Juice WRLD', 'streams': 444007, 'id': '6phY2gnvf9WwCiXlLMQOY3'}\n",
      "{'title': 'Flaws And Sins', 'artist': 'Juice WRLD', 'streams': 438121, 'id': '2BSbCCbaSCzkOEZa6N5901'}\n",
      "{'title': 'Splashin', 'artist': 'Rich The Kid', 'streams': 432124, 'id': '79OEIr4J4FHV0O3KrhaXRb'}\n",
      "{'title': 'Here With Me', 'artist': 'Marshmello', 'streams': 431061, 'id': '5icOoE6VgqFKohjWWNp0Ac'}\n",
      "{'title': 'Nights Like This (feat. Ty Dolla $ign)', 'artist': 'Kehlani', 'streams': 428082, 'id': '6ZRuF2n1CQxyxxAAWsKJOy'}\n",
      "{'title': 'Feeling', 'artist': 'Juice WRLD', 'streams': 427740, 'id': '2Jh3UqxnHJMyzMzku4uOtE'}\n",
      "{'title': 'NASA', 'artist': 'Ariana Grande', 'streams': 426169, 'id': '4SPu0Ql902hTVXkBoNIYtq'}\n",
      "{'title': 'lovely', 'artist': 'Billie Eilish', 'streams': 421188, 'id': '1NJcg626wLln4pGHpiV7mf'}\n",
      "{'title': 'Saturday Nights', 'artist': 'Khalid', 'streams': 415254, 'id': '5kfNriitmkNE8mUbZ7gbq8'}\n",
      "{'title': 'Bohemian Rhapsody - Remastered 2011', 'artist': 'Queen', 'streams': 411555, 'id': '7tFiyTwD0nx5a1eklYtX2J'}\n",
      "{'title': \"when the party's over\", 'artist': 'Billie Eilish', 'streams': 406118, 'id': '14JzyD6FlBD5z0wV5P07YI'}\n",
      "{'title': 'needy', 'artist': 'Ariana Grande', 'streams': 400494, 'id': '1TEL6MlSSVLSdhOSddidlJ'}\n",
      "{'title': 'Space Cadet (feat. Gunna)', 'artist': 'Metro Boomin', 'streams': 396592, 'id': '1fewSx2d5KIZ04wsooEBOz'}\n",
      "{'title': 'rockstar (feat. 21 Savage)', 'artist': 'Post Malone', 'streams': 395730, 'id': '0e7ipj03S05BNilyu5bRzt'}\n",
      "{'title': 'Jocelyn Flores', 'artist': 'XXXTENTACION', 'streams': 387752, 'id': '7m9OqQk4RVRkw9JJdeAw96'}\n",
      "{'title': 'High Hopes', 'artist': 'Panic! At The Disco', 'streams': 387685, 'id': '1rqqCSm0Qe4I9rUvWncaom'}\n",
      "{'title': 'MIA (feat. Drake)', 'artist': 'Bad Bunny', 'streams': 382701, 'id': '116H0KvKr2Zl4RPuVBruDO'}\n",
      "{'title': 'Ring Ring (feat. Clever)', 'artist': 'Juice WRLD', 'streams': 382557, 'id': '4zxpssj8DyrfZcEUSUiNxG'}\n",
      "{'title': 'Taste (feat. Offset)', 'artist': 'Tyga', 'streams': 376044, 'id': '5IaHrVsrferBYDm0bDyABy'}\n",
      "{'title': 'Startender (feat. Offset and Tyga)', 'artist': 'A Boogie Wit da Hoodie', 'streams': 375904, 'id': '0jAfdqv18goRTUxm3ilRjb'}\n",
      "{'title': 'Pure Cocaine', 'artist': 'Lil Baby', 'streams': 369990, 'id': '577YBGuskWkVDCxZrLRB4v'}\n",
      "{'title': 'Girls Need Love (with Drake) - Remix', 'artist': 'Summer Walker', 'streams': 369209, 'id': '14SaZBTjxlorHJQxXh01Hu'}\n",
      "{'title': 'Con Calma', 'artist': 'Daddy Yankee', 'streams': 368932, 'id': '5w9c2J52mkdntKOmRLeM2m'}\n",
      "{'title': 'I Like It', 'artist': 'Cardi B', 'streams': 368547, 'id': '58q2HKrzhC3ozto2nDdN4z'}\n"
     ]
    },
    {
     "ename": "KeyboardInterrupt",
     "evalue": "",
     "output_type": "error",
     "traceback": [
      "\u001b[0;31m---------------------------------------------------------------------------\u001b[0m",
      "\u001b[0;31mKeyboardInterrupt\u001b[0m                         Traceback (most recent call last)",
      "\u001b[0;32m<ipython-input-79-b0b570771d5d>\u001b[0m in \u001b[0;36m<module>\u001b[0;34m\u001b[0m\n\u001b[1;32m      2\u001b[0m \u001b[0;32mfor\u001b[0m \u001b[0msong\u001b[0m \u001b[0;32min\u001b[0m \u001b[0mt\u001b[0m\u001b[0;34m:\u001b[0m\u001b[0;34m\u001b[0m\u001b[0;34m\u001b[0m\u001b[0m\n\u001b[1;32m      3\u001b[0m     \u001b[0mprint\u001b[0m\u001b[0;34m(\u001b[0m\u001b[0msong\u001b[0m\u001b[0;34m)\u001b[0m\u001b[0;34m\u001b[0m\u001b[0;34m\u001b[0m\u001b[0m\n\u001b[0;32m----> 4\u001b[0;31m     \u001b[0msleep\u001b[0m\u001b[0;34m(\u001b[0m\u001b[0;36m.1\u001b[0m\u001b[0;34m)\u001b[0m\u001b[0;34m\u001b[0m\u001b[0;34m\u001b[0m\u001b[0m\n\u001b[0m",
      "\u001b[0;31mKeyboardInterrupt\u001b[0m: "
     ]
    }
   ],
   "source": [
    "from time import sleep\n",
    "for song in t:\n",
    "    print(song)\n",
    "    sleep(1)"
   ]
  },
  {
   "cell_type": "markdown",
   "metadata": {},
   "source": [
    "# Scraping Function"
   ]
  },
  {
   "cell_type": "code",
   "execution_count": 97,
   "metadata": {},
   "outputs": [],
   "source": [
    "import requests\n",
    "from bs4 import BeautifulSoup\n",
    "from time import sleep\n",
    "\n",
    "def get_chart(region = 'global', date = 'latest'):\n",
    "    \n",
    "    # create url to query\n",
    "    url = \"https://spotifycharts.com/regional/{}/daily/{}\".format(region, date)\n",
    "    \n",
    "    # run query, if fails, re-try after 3 seconds\n",
    "    r = requests.get(url)\n",
    "    while r.status_code != 200:\n",
    "        print(\"Error parsing {}\\nError code: {}\\nTrying again...\\n\".format(url, r.status_code))\n",
    "        sleep(5)\n",
    "        r = requests.get(url)\n",
    "    \n",
    "    # Parse HTML response for data\n",
    "    html = BeautifulSoup(r.text, 'html.parser')\n",
    "    title_artist = html.find_all('td', attrs = {'class':'chart-table-track'})\n",
    "    streams = html.find_all('td', attrs = {'class':'chart-table-streams'})\n",
    "    ids = html.find_all('td', attrs = {'class':'chart-table-image'})\n",
    "    ids = [i.a.get(\"href\").replace(\"https://open.spotify.com/track/\", \"\") for i in ids]\n",
    "    \n",
    "    # Create a list of dictionaries with the data\n",
    "    dta =[{'title':i.strong.text,\n",
    "          'artist':i.span.text.replace(\"by \", \"\"),\n",
    "          'streams':int(j.text.replace(',', '')),\n",
    "          'id':ids,\n",
    "          'date':date,\n",
    "          'region':region} for i, j, ids in zip(title_artist, streams, ids)]\n",
    "    \n",
    "    return dta"
   ]
  },
  {
   "cell_type": "code",
   "execution_count": 98,
   "metadata": {},
   "outputs": [
    {
     "name": "stdout",
     "output_type": "stream",
     "text": [
      "{'title': 'Mwaka Moon', 'artist': 'Kalash', 'streams': 352479, 'id': '1vVZLmZq8gN8pPCEBLjPvD', 'date': '2017-10-19', 'region': 'fr'}\n",
      "{'title': 'Salé', 'artist': 'Niska', 'streams': 208775, 'id': '0uBu60Wd7yzm2sFrj2hSr6', 'date': '2017-10-19', 'region': 'fr'}\n",
      "{'title': 'Réseaux', 'artist': 'Niska', 'streams': 192524, 'id': '2nY6MRHWpW0AGXMoGDJOjX', 'date': '2017-10-19', 'region': 'fr'}\n",
      "{'title': 'Tuba Life', 'artist': 'Niska', 'streams': 158810, 'id': '2r6C2IEw533mDs3sam5Zxx', 'date': '2017-10-19', 'region': 'fr'}\n",
      "{'title': 'rockstar', 'artist': 'Post Malone', 'streams': 144022, 'id': '7wGoVu4Dady5GV0Sv4UIsx', 'date': '2017-10-19', 'region': 'fr'}\n",
      "{'title': 'Medellín', 'artist': 'Niska', 'streams': 139880, 'id': '1gI6FedOWXQ7aSj4FfEiGK', 'date': '2017-10-19', 'region': 'fr'}\n",
      "{'title': \"De l'autre côté (feat. Nekfeu)\", 'artist': 'Ninho', 'streams': 120611, 'id': '3ldfGgw7IoLHbaqmspX3ME', 'date': '2017-10-19', 'region': 'fr'}\n",
      "{'title': 'Basique', 'artist': 'Orelsan', 'streams': 118592, 'id': '0LMv3sc83AI7tJCkvSWPvO', 'date': '2017-10-19', 'region': 'fr'}\n",
      "{'title': 'Madre mia (feat. Ninho)', 'artist': 'Sadek', 'streams': 117148, 'id': '37YNulvDhyzULfhHycmhEl', 'date': '2017-10-19', 'region': 'fr'}\n",
      "{'title': 'Caramelo', 'artist': 'Ninho', 'streams': 112495, 'id': '4fuhLKAuSxRY5OO2hwARlY', 'date': '2017-10-19', 'region': 'fr'}\n"
     ]
    }
   ],
   "source": [
    "data = get_chart(region = 'fr', date = \"2017-10-19\")\n",
    "for i in data[0:10]:\n",
    "    print(i)\n",
    "    sleep(1)"
   ]
  },
  {
   "cell_type": "code",
   "execution_count": 111,
   "metadata": {},
   "outputs": [],
   "source": [
    "with open(\"FR-2017-10-19.txt\", \"a+\") as f:\n",
    "    for song in data:\n",
    "        f.write(str(song) + \"\\n\")"
   ]
  },
  {
   "cell_type": "markdown",
   "metadata": {},
   "source": [
    "#### The below cell doesn't really create valid JSON - it's 200 JSONs appended in a file..."
   ]
  },
  {
   "cell_type": "code",
   "execution_count": 103,
   "metadata": {},
   "outputs": [],
   "source": [
    "import json\n",
    "with open(\"FR-2017-10-19.json\", \"a+\") as f:\n",
    "    for song in data:\n",
    "        json.dump(song, f)"
   ]
  },
  {
   "cell_type": "code",
   "execution_count": null,
   "metadata": {},
   "outputs": [],
   "source": []
  }
 ],
 "metadata": {
  "kernelspec": {
   "display_name": "Python 3",
   "language": "python",
   "name": "python3"
  },
  "language_info": {
   "codemirror_mode": {
    "name": "ipython",
    "version": 3
   },
   "file_extension": ".py",
   "mimetype": "text/x-python",
   "name": "python",
   "nbconvert_exporter": "python",
   "pygments_lexer": "ipython3",
   "version": "3.7.1"
  }
 },
 "nbformat": 4,
 "nbformat_minor": 2
}
